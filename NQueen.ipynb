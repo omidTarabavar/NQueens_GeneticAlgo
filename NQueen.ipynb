{
 "cells": [
  {
   "cell_type": "markdown",
   "metadata": {},
   "source": [
    "## Import packages"
   ]
  },
  {
   "cell_type": "code",
   "execution_count": 1,
   "metadata": {},
   "outputs": [],
   "source": [
    "import random\n",
    "import time"
   ]
  },
  {
   "cell_type": "markdown",
   "metadata": {},
   "source": [
    "## Initial chromosome"
   ]
  },
  {
   "cell_type": "code",
   "execution_count": 2,
   "metadata": {},
   "outputs": [],
   "source": [
    "def init_ch(n):\n",
    "    return [random.randint(1, n) for _ in range(n)]"
   ]
  },
  {
   "cell_type": "markdown",
   "metadata": {},
   "source": [
    "## Generate Population"
   ]
  },
  {
   "cell_type": "code",
   "execution_count": 3,
   "metadata": {},
   "outputs": [],
   "source": [
    "def init_population(n, pop_size = 500):\n",
    "    population = [init_ch(n) for _ in range(pop_size)]\n",
    "    return population"
   ]
  },
  {
   "cell_type": "markdown",
   "metadata": {},
   "source": [
    "## Calculate fitness"
   ]
  },
  {
   "cell_type": "code",
   "execution_count": 4,
   "metadata": {},
   "outputs": [],
   "source": [
    "def fitness(ch):\n",
    "    n = len(ch)\n",
    "    max_fitness = n * (n-1) / 2\n",
    "    h_collision = 0\n",
    "    d_collision = 0\n",
    "    for queen in ch:\n",
    "        h_collision += ch.count(queen) - 1\n",
    "    h_collision /= 2\n",
    "\n",
    "    tl_br_diags = [0] * (2 * n - 1)\n",
    "    tr_bl_diags = [0] * (2 * n)\n",
    "    for i in range(n):\n",
    "        tl_br_diags[ch[i] - i] += 1\n",
    "        tr_bl_diags[ch[i] + i] += 1 \n",
    "    \n",
    "    for diag in tl_br_diags:\n",
    "        d_collision += diag * (diag - 1) / 2\n",
    "    \n",
    "    for diag in tr_bl_diags:\n",
    "        d_collision += diag * (diag - 1) / 2\n",
    "\n",
    "    return max_fitness - (h_collision + d_collision)\n"
   ]
  },
  {
   "cell_type": "markdown",
   "metadata": {},
   "source": [
    "## Selection"
   ]
  },
  {
   "cell_type": "markdown",
   "metadata": {},
   "source": [
    "### Random Pick"
   ]
  },
  {
   "cell_type": "code",
   "execution_count": 5,
   "metadata": {},
   "outputs": [],
   "source": [
    "def random_pick(population):\n",
    "    fitnesses = [fitness(ch) for ch in population]\n",
    "    sumFitnesses = sum([fitness(ch) for ch in population])\n",
    "    probs = [fn / sumFitnesses for fn in fitnesses]\n",
    "\n",
    "    cumulative_probs = []\n",
    "    cumulative_sum = 0\n",
    "    for prob in probs:\n",
    "        cumulative_sum += prob\n",
    "        cumulative_probs.append(cumulative_sum)\n",
    "\n",
    "    rand = random.random()\n",
    "\n",
    "    for i, cum_prob in enumerate(cumulative_probs):\n",
    "        if rand < cum_prob:\n",
    "            return population[i]\n",
    "    return population[-1]"
   ]
  },
  {
   "cell_type": "markdown",
   "metadata": {},
   "source": [
    "### Tournoment Selecton"
   ]
  },
  {
   "cell_type": "code",
   "execution_count": 6,
   "metadata": {},
   "outputs": [],
   "source": [
    "def tournament_selection(population, tournament_size = 5):\n",
    "    tournament = random.sample(population, tournament_size)\n",
    "    winner = max(tournament, key=fitness)\n",
    "    return winner"
   ]
  },
  {
   "cell_type": "markdown",
   "metadata": {},
   "source": [
    "## Crossover"
   ]
  },
  {
   "cell_type": "markdown",
   "metadata": {},
   "source": [
    "### Single Point"
   ]
  },
  {
   "cell_type": "code",
   "execution_count": 7,
   "metadata": {},
   "outputs": [],
   "source": [
    "def single_point_co(x,y):\n",
    "    co_point = random.randint(1,len(x) - 1)\n",
    "    offspring1 = x[:co_point] + y[co_point:]\n",
    "    offspring2 = y[:co_point] + x[co_point:]\n",
    "\n",
    "    return offspring1, offspring2"
   ]
  },
  {
   "cell_type": "markdown",
   "metadata": {},
   "source": [
    "### Partially Mapped Crossover (PMX)"
   ]
  },
  {
   "cell_type": "code",
   "execution_count": 8,
   "metadata": {},
   "outputs": [],
   "source": [
    "def pmx_co(x,y):\n",
    "    n = len(x)\n",
    "    pos1, pos2 = sorted(random.sample(range(1,n), k = 2))\n",
    "\n",
    "    offspring1 = x[:]\n",
    "    offspring2 = y[:]\n",
    "\n",
    "    offspring1[pos1:pos2+1] = y[pos1:pos2+1]\n",
    "    offspring2[pos1:pos2+1] = x[pos1:pos2+1]\n",
    "\n",
    "    map1 = {y[i]: x[i] for i in range(pos1, pos2+1)}\n",
    "    map2 = {x[i]: y[i] for i in range(pos1, pos2+1)}\n",
    "    for i in range(n):\n",
    "        if i < pos1 or i > pos2:\n",
    "            if offspring1[i] not in y[pos1:pos2+1]:\n",
    "                continue\n",
    "            value = offspring1[i]\n",
    "            numOfTries = 0\n",
    "            while value in map1 and numOfTries < n:\n",
    "                value = map1[value]\n",
    "                numOfTries += 1\n",
    "            if numOfTries >= n:\n",
    "                for gene in y:\n",
    "                    if gene not in y[pos1:pos2+1]:\n",
    "                        value = gene\n",
    "                        break\n",
    "            offspring1[i] = value\n",
    "    \n",
    "    for i in range(n):\n",
    "        if i < pos1 or i > pos2:\n",
    "            if offspring2[i] not in x[pos1:pos2+1]:\n",
    "                continue\n",
    "            value = offspring2[i]\n",
    "            numOfTries = 0\n",
    "            while value in map2 and numOfTries < n:\n",
    "                value = map2[value]\n",
    "                numOfTries += 1\n",
    "            if numOfTries >= n:\n",
    "                for gene in x:\n",
    "                    if gene not in x[pos1:pos2+1]:\n",
    "                        value = gene\n",
    "                        break\n",
    "            offspring2[i] = value\n",
    "    \n",
    "    return offspring1, offspring2"
   ]
  },
  {
   "cell_type": "markdown",
   "metadata": {},
   "source": [
    "### Order Crossover (OX)"
   ]
  },
  {
   "cell_type": "code",
   "execution_count": 9,
   "metadata": {},
   "outputs": [],
   "source": [
    "def ox_co(x,y):\n",
    "    n = len(x)\n",
    "    pos1, pos2 = sorted(random.sample(range(n), k = 2))\n",
    "    offspring1 = [None] * n\n",
    "    offspring2 = [None] * n\n",
    "\n",
    "    offspring1[pos1:pos2+1] = y[pos1:pos2+1]\n",
    "    offspring2[pos1:pos2+1] = x[pos1:pos2+1]\n",
    "\n",
    "    k1, k2 = (pos2 + 1) % n, (pos2 + 1) % n\n",
    "    for i in range(n):\n",
    "        gene1 = x[(i + pos2 + 1) % n]\n",
    "\n",
    "        if gene1 not in offspring1[pos1:pos2+1]:\n",
    "            offspring1[k1] = gene1\n",
    "            k1 = (k1 + 1) % n\n",
    "        gene2 = y[(i + pos2 + 1) % n]\n",
    "        if gene2 not in offspring2[pos1:pos2+1]:\n",
    "            offspring2[k2] = gene2\n",
    "            k2 = (k2 + 1) % n\n",
    "    for i in range(n):\n",
    "        if offspring1[i] == None:\n",
    "            offspring1[i] = x[i]\n",
    "        if offspring2[i] == None:\n",
    "            offspring2[i] = y[i]\n",
    "    return offspring1, offspring2"
   ]
  },
  {
   "cell_type": "markdown",
   "metadata": {},
   "source": [
    "## Mutation"
   ]
  },
  {
   "cell_type": "code",
   "execution_count": 10,
   "metadata": {},
   "outputs": [],
   "source": [
    "def random_swap_mutation(ch):\n",
    "    pos1, pos2 = random.sample(range(len(ch)), k = 2)\n",
    "    mutated_ch = ch[:]\n",
    "    mutated_ch[pos1], mutated_ch[pos2] = mutated_ch[pos2], mutated_ch[pos1]\n",
    "    return mutated_ch"
   ]
  },
  {
   "cell_type": "markdown",
   "metadata": {},
   "source": [
    "## Random Restart"
   ]
  },
  {
   "cell_type": "code",
   "execution_count": 11,
   "metadata": {},
   "outputs": [],
   "source": [
    "def random_restart(population, restart_fraction=0.5):\n",
    "    num_to_restart = int(len(population) * restart_fraction)\n",
    "    newPopulation = population\n",
    "    newPopulation = sorted(newPopulation, key=lambda ch: fitness(ch), reverse=False)\n",
    "    for i in range(num_to_restart):\n",
    "        newPopulation[i] = init_ch(len(newPopulation[i]))\n",
    "    newPopulation = sorted(newPopulation, key=lambda ch: fitness(ch), reverse=True)\n",
    "    return newPopulation"
   ]
  },
  {
   "cell_type": "markdown",
   "metadata": {},
   "source": [
    "## Genetic Algorithm"
   ]
  },
  {
   "cell_type": "code",
   "execution_count": 12,
   "metadata": {},
   "outputs": [],
   "source": [
    "def genetic_algo(population, best_fitness, patient):\n",
    "    current_best_fitness = max([fitness(ch) for ch in population])\n",
    "    \n",
    "    if current_best_fitness == best_fitness:\n",
    "        patient += 1\n",
    "    else:\n",
    "        patient = 0\n",
    "        best_fitness = current_best_fitness\n",
    "\n",
    "    if patient >= 20:\n",
    "        population = random_restart(population)\n",
    "        patient = 0\n",
    "\n",
    "    new_population = []\n",
    "    for i in range(int(len(population) / 2)):\n",
    "        x = tournament_selection(population)\n",
    "        y = tournament_selection(population)\n",
    "        offspring1, offspring2 = single_point_co(x,y)\n",
    "        new_population.append(offspring1)\n",
    "        new_population.append(offspring2)\n",
    "\n",
    "    return new_population, patient, best_fitness"
   ]
  },
  {
   "cell_type": "code",
   "execution_count": 13,
   "metadata": {},
   "outputs": [
    {
     "name": "stdout",
     "output_type": "stream",
     "text": [
      "Answer: [4, 1, 5, 8, 6, 3, 7, 2]\n",
      " Fitness: 28.0\n",
      "Elapsed time: 38.50913047790527 milliseconds\n"
     ]
    }
   ],
   "source": [
    "n = int(input(\"Enter N: \"))\n",
    "max_fitness = n * (n-1) / 2\n",
    "population = init_population(n)\n",
    "generation = 1\n",
    "patient = 0\n",
    "best_fitness = 0\n",
    "start = time.time()\n",
    "while(not max_fitness in [fitness(ch) for ch in population]):\n",
    "    population, patient, best_fitness = genetic_algo(population, best_fitness, patient)\n",
    "    generation += 1\n",
    "    #if(generation % 10 == 0):\n",
    "        #print(f\"Generation: {generation}\\nBest fitness: {best_fitness}\")\n",
    "end = time.time()\n",
    "fitnesses = [fitness(ch) for ch in population]\n",
    "bestCh = population[fitnesses.index(max(fitnesses))]\n",
    "maxFitness = max(fitnesses)\n",
    "print(f\"Answer: {bestCh}\\n Fitness: {maxFitness}\")\n",
    "print(f\"Elapsed time: {(end-start) * 1000} milliseconds\")"
   ]
  },
  {
   "cell_type": "code",
   "execution_count": null,
   "metadata": {},
   "outputs": [],
   "source": []
  }
 ],
 "metadata": {
  "kernelspec": {
   "display_name": "Python 3",
   "language": "python",
   "name": "python3"
  },
  "language_info": {
   "codemirror_mode": {
    "name": "ipython",
    "version": 3
   },
   "file_extension": ".py",
   "mimetype": "text/x-python",
   "name": "python",
   "nbconvert_exporter": "python",
   "pygments_lexer": "ipython3",
   "version": "3.12.6"
  }
 },
 "nbformat": 4,
 "nbformat_minor": 2
}
